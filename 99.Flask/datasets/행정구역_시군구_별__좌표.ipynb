{
 "metadata": {
  "language_info": {
   "codemirror_mode": {
    "name": "ipython",
    "version": 3
   },
   "file_extension": ".py",
   "mimetype": "text/x-python",
   "name": "python",
   "nbconvert_exporter": "python",
   "pygments_lexer": "ipython3",
   "version": "3.8.5-final"
  },
  "orig_nbformat": 2,
  "kernelspec": {
   "name": "python3",
   "display_name": "Python 3",
   "language": "python"
  }
 },
 "nbformat": 4,
 "nbformat_minor": 2,
 "cells": [
  {
   "cell_type": "code",
   "execution_count": 1,
   "metadata": {},
   "outputs": [],
   "source": [
    "# Miscellaneous operating system interfaces\n",
    "import os\n",
    "\n",
    "# JSON encoder and decoder\n",
    "import json\n",
    "\n",
    "# Basic date and time types\n",
    "from datetime import datetime, date, timedelta\n",
    "\n",
    "# The fundamental package for scientific computing with Python.\n",
    "import numpy as np\n",
    "\n",
    "# Flexible and powerful data analysis / manipulation library for Python, providing labeled data structures similar to R data.frame objects, statistical functions, and much more\n",
    "import pandas as pd\n",
    "\n",
    "# Set the absolute directory path.\n",
    "BASE_PATH = os.path.abspath('')\n",
    "dirs = os.path.dirname(BASE_PATH)\n",
    "DATA_PATH = os.path.join(dirs, 'datasets')"
   ]
  },
  {
   "cell_type": "code",
   "execution_count": 2,
   "metadata": {},
   "outputs": [
    {
     "output_type": "execute_result",
     "data": {
      "text/plain": [
       "   시군구코드          시군구_x         시군구_y\n",
       "0  11110  954859.306142  1.953755e+06\n",
       "1  11140  955931.027850  1.951526e+06\n",
       "2  11170  954122.014984  1.948855e+06\n",
       "3  11200  959571.250766  1.950601e+06\n",
       "4  11215  963032.466631  1.949996e+06"
      ],
      "text/html": "<div>\n<style scoped>\n    .dataframe tbody tr th:only-of-type {\n        vertical-align: middle;\n    }\n\n    .dataframe tbody tr th {\n        vertical-align: top;\n    }\n\n    .dataframe thead th {\n        text-align: right;\n    }\n</style>\n<table border=\"1\" class=\"dataframe\">\n  <thead>\n    <tr style=\"text-align: right;\">\n      <th></th>\n      <th>시군구코드</th>\n      <th>시군구_x</th>\n      <th>시군구_y</th>\n    </tr>\n  </thead>\n  <tbody>\n    <tr>\n      <th>0</th>\n      <td>11110</td>\n      <td>954859.306142</td>\n      <td>1.953755e+06</td>\n    </tr>\n    <tr>\n      <th>1</th>\n      <td>11140</td>\n      <td>955931.027850</td>\n      <td>1.951526e+06</td>\n    </tr>\n    <tr>\n      <th>2</th>\n      <td>11170</td>\n      <td>954122.014984</td>\n      <td>1.948855e+06</td>\n    </tr>\n    <tr>\n      <th>3</th>\n      <td>11200</td>\n      <td>959571.250766</td>\n      <td>1.950601e+06</td>\n    </tr>\n    <tr>\n      <th>4</th>\n      <td>11215</td>\n      <td>963032.466631</td>\n      <td>1.949996e+06</td>\n    </tr>\n  </tbody>\n</table>\n</div>"
     },
     "metadata": {},
     "execution_count": 2
    }
   ],
   "source": [
    "# 도로명주소_건물DB\n",
    "df1 = pd.read_csv(os.path.join(DATA_PATH, 'juso.go.kr', '도로명주소_건물DB_202012.csv'),\n",
    "    encoding='utf-8',\n",
    ")\n",
    "df1.head()"
   ]
  },
  {
   "cell_type": "code",
   "execution_count": 3,
   "metadata": {},
   "outputs": [
    {
     "output_type": "execute_result",
     "data": {
      "text/plain": [
       "     시도명  시도코드 시군구명  시군구코드\n",
       "0  서울특별시    11  종로구  11110\n",
       "1  서울특별시    11   중구  11140\n",
       "2  서울특별시    11  용산구  11170\n",
       "3  서울특별시    11  성동구  11200\n",
       "4  서울특별시    11  광진구  11215"
      ],
      "text/html": "<div>\n<style scoped>\n    .dataframe tbody tr th:only-of-type {\n        vertical-align: middle;\n    }\n\n    .dataframe tbody tr th {\n        vertical-align: top;\n    }\n\n    .dataframe thead th {\n        text-align: right;\n    }\n</style>\n<table border=\"1\" class=\"dataframe\">\n  <thead>\n    <tr style=\"text-align: right;\">\n      <th></th>\n      <th>시도명</th>\n      <th>시도코드</th>\n      <th>시군구명</th>\n      <th>시군구코드</th>\n    </tr>\n  </thead>\n  <tbody>\n    <tr>\n      <th>0</th>\n      <td>서울특별시</td>\n      <td>11</td>\n      <td>종로구</td>\n      <td>11110</td>\n    </tr>\n    <tr>\n      <th>1</th>\n      <td>서울특별시</td>\n      <td>11</td>\n      <td>중구</td>\n      <td>11140</td>\n    </tr>\n    <tr>\n      <th>2</th>\n      <td>서울특별시</td>\n      <td>11</td>\n      <td>용산구</td>\n      <td>11170</td>\n    </tr>\n    <tr>\n      <th>3</th>\n      <td>서울특별시</td>\n      <td>11</td>\n      <td>성동구</td>\n      <td>11200</td>\n    </tr>\n    <tr>\n      <th>4</th>\n      <td>서울특별시</td>\n      <td>11</td>\n      <td>광진구</td>\n      <td>11215</td>\n    </tr>\n  </tbody>\n</table>\n</div>"
     },
     "metadata": {},
     "execution_count": 3
    }
   ],
   "source": [
    "# 행정구역_시군구_별__성별_인구수_좌표\n",
    "df2 = pd.read_csv(os.path.join(DATA_PATH, 'kosis.kr', '행정구역_시군구_별__성별_인구수_20201202115401.csv'),\n",
    "    encoding='utf-8',\n",
    "    usecols=['시도명','시도코드','시군구명','시군구코드'],\n",
    ")\n",
    "df2.head()"
   ]
  },
  {
   "cell_type": "code",
   "execution_count": 4,
   "metadata": {},
   "outputs": [
    {
     "output_type": "execute_result",
     "data": {
      "text/plain": [
       "     시도명  시도코드 시군구명  시군구코드          시군구_x         시군구_y\n",
       "0  서울특별시    11  종로구  11110  954859.306142  1.953755e+06\n",
       "1  서울특별시    11   중구  11140  955931.027850  1.951526e+06\n",
       "2  서울특별시    11  용산구  11170  954122.014984  1.948855e+06\n",
       "3  서울특별시    11  성동구  11200  959571.250766  1.950601e+06\n",
       "4  서울특별시    11  광진구  11215  963032.466631  1.949996e+06"
      ],
      "text/html": "<div>\n<style scoped>\n    .dataframe tbody tr th:only-of-type {\n        vertical-align: middle;\n    }\n\n    .dataframe tbody tr th {\n        vertical-align: top;\n    }\n\n    .dataframe thead th {\n        text-align: right;\n    }\n</style>\n<table border=\"1\" class=\"dataframe\">\n  <thead>\n    <tr style=\"text-align: right;\">\n      <th></th>\n      <th>시도명</th>\n      <th>시도코드</th>\n      <th>시군구명</th>\n      <th>시군구코드</th>\n      <th>시군구_x</th>\n      <th>시군구_y</th>\n    </tr>\n  </thead>\n  <tbody>\n    <tr>\n      <th>0</th>\n      <td>서울특별시</td>\n      <td>11</td>\n      <td>종로구</td>\n      <td>11110</td>\n      <td>954859.306142</td>\n      <td>1.953755e+06</td>\n    </tr>\n    <tr>\n      <th>1</th>\n      <td>서울특별시</td>\n      <td>11</td>\n      <td>중구</td>\n      <td>11140</td>\n      <td>955931.027850</td>\n      <td>1.951526e+06</td>\n    </tr>\n    <tr>\n      <th>2</th>\n      <td>서울특별시</td>\n      <td>11</td>\n      <td>용산구</td>\n      <td>11170</td>\n      <td>954122.014984</td>\n      <td>1.948855e+06</td>\n    </tr>\n    <tr>\n      <th>3</th>\n      <td>서울특별시</td>\n      <td>11</td>\n      <td>성동구</td>\n      <td>11200</td>\n      <td>959571.250766</td>\n      <td>1.950601e+06</td>\n    </tr>\n    <tr>\n      <th>4</th>\n      <td>서울특별시</td>\n      <td>11</td>\n      <td>광진구</td>\n      <td>11215</td>\n      <td>963032.466631</td>\n      <td>1.949996e+06</td>\n    </tr>\n  </tbody>\n</table>\n</div>"
     },
     "metadata": {},
     "execution_count": 4
    }
   ],
   "source": [
    "df = pd.merge(df1, df2, on='시군구코드', how='left')\n",
    "df = df[['시도명', '시도코드', '시군구명', '시군구코드', '시군구_x', '시군구_y']]\n",
    "\n",
    "df.to_csv(os.path.join(DATA_PATH, '행정구역_시군구_별__좌표_20201202.csv'), index=False)\n",
    "df.head()"
   ]
  }
 ]
}