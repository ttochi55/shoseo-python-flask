{
 "metadata": {
  "language_info": {
   "codemirror_mode": {
    "name": "ipython",
    "version": 3
   },
   "file_extension": ".py",
   "mimetype": "text/x-python",
   "name": "python",
   "nbconvert_exporter": "python",
   "pygments_lexer": "ipython3",
   "version": "3.8.5-final"
  },
  "orig_nbformat": 2,
  "kernelspec": {
   "name": "python3",
   "display_name": "Python 3",
   "language": "python"
  }
 },
 "nbformat": 4,
 "nbformat_minor": 2,
 "cells": [
  {
   "cell_type": "code",
   "execution_count": 1,
   "metadata": {},
   "outputs": [],
   "source": [
    "# Miscellaneous operating system interfaces\n",
    "import os\n",
    "\n",
    "# JSON encoder and decoder\n",
    "import json\n",
    "\n",
    "# Basic date and time types\n",
    "from datetime import datetime, date, timedelta\n",
    "\n",
    "# The fundamental package for scientific computing with Python.\n",
    "import numpy as np\n",
    "\n",
    "# Flexible and powerful data analysis / manipulation library for Python, providing labeled data structures similar to R data.frame objects, statistical functions, and much more\n",
    "import pandas as pd\n",
    "\n",
    "# Set the absolute directory path.\n",
    "BASE_PATH = os.path.abspath('')\n",
    "dirs = os.path.dirname(BASE_PATH)\n",
    "DATA_PATH = os.path.join(dirs, 'datasets')"
   ]
  },
  {
   "cell_type": "code",
   "execution_count": 2,
   "metadata": {},
   "outputs": [
    {
     "output_type": "execute_result",
     "data": {
      "text/plain": [
       "   공원번호       공원명        개원일  \\\n",
       "0     1  남산도시자연공원  1968.9.10   \n",
       "\n",
       "                                                 이미지  지역  \\\n",
       "0  http://parks.seoul.go.kr/file/info/view.do?fId...  중구   \n",
       "\n",
       "                     공원주소          전화번호         X좌표       Y좌표  \\\n",
       "0  서울특별시 중구 삼일대로 231(예장동)  02-3783-5900  126.990377  37.55014   \n",
       "\n",
       "                                              바로가기  \n",
       "0  http://parks.seoul.go.kr/template/sub/namsan.do  "
      ],
      "text/html": "<div>\n<style scoped>\n    .dataframe tbody tr th:only-of-type {\n        vertical-align: middle;\n    }\n\n    .dataframe tbody tr th {\n        vertical-align: top;\n    }\n\n    .dataframe thead th {\n        text-align: right;\n    }\n</style>\n<table border=\"1\" class=\"dataframe\">\n  <thead>\n    <tr style=\"text-align: right;\">\n      <th></th>\n      <th>공원번호</th>\n      <th>공원명</th>\n      <th>개원일</th>\n      <th>이미지</th>\n      <th>지역</th>\n      <th>공원주소</th>\n      <th>전화번호</th>\n      <th>X좌표</th>\n      <th>Y좌표</th>\n      <th>바로가기</th>\n    </tr>\n  </thead>\n  <tbody>\n    <tr>\n      <th>0</th>\n      <td>1</td>\n      <td>남산도시자연공원</td>\n      <td>1968.9.10</td>\n      <td>http://parks.seoul.go.kr/file/info/view.do?fId...</td>\n      <td>중구</td>\n      <td>서울특별시 중구 삼일대로 231(예장동)</td>\n      <td>02-3783-5900</td>\n      <td>126.990377</td>\n      <td>37.55014</td>\n      <td>http://parks.seoul.go.kr/template/sub/namsan.do</td>\n    </tr>\n  </tbody>\n</table>\n</div>"
     },
     "metadata": {},
     "execution_count": 2
    }
   ],
   "source": [
    "# 서울시_주요_공원현황\n",
    "df = pd.read_csv(os.path.join(DATA_PATH, 'data.seoul.go.kr', '서울시_주요_공원현황_2020.csv'),\n",
    "    encoding='euc-kr',\n",
    ")\n",
    "\n",
    "df.rename(columns={\n",
    "    'X좌표(WGS84)': 'X좌표',\n",
    "    'Y좌표(WGS84)': 'Y좌표',\n",
    "}, inplace=True)\n",
    "\n",
    "df = df[df['Y좌표'].notna() & df['X좌표'].notna()]\n",
    "df.index = np.arange(0, len(df))\n",
    "\n",
    "df['바로가기'].fillna('-', inplace=True)\n",
    "df = df[['공원번호', '공원명', '개원일', '이미지', '지역', '공원주소', '전화번호', 'X좌표', 'Y좌표', '바로가기']]\n",
    "\n",
    "df.to_csv(os.path.join(DATA_PATH, '서울시_주요_공원현황_2020.csv'), index=False)\n",
    "df.head(1)"
   ]
  },
  {
   "cell_type": "code",
   "execution_count": null,
   "metadata": {},
   "outputs": [],
   "source": []
  }
 ]
}