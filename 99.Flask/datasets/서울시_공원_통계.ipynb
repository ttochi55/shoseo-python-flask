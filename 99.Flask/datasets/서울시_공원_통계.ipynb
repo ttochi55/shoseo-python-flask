{
 "metadata": {
  "language_info": {
   "codemirror_mode": {
    "name": "ipython",
    "version": 3
   },
   "file_extension": ".py",
   "mimetype": "text/x-python",
   "name": "python",
   "nbconvert_exporter": "python",
   "pygments_lexer": "ipython3",
   "version": "3.8.5-final"
  },
  "orig_nbformat": 2,
  "kernelspec": {
   "name": "python3",
   "display_name": "Python 3",
   "language": "python"
  }
 },
 "nbformat": 4,
 "nbformat_minor": 2,
 "cells": [
  {
   "cell_type": "code",
   "execution_count": 1,
   "metadata": {},
   "outputs": [],
   "source": [
    "# Miscellaneous operating system interfaces\n",
    "import os\n",
    "\n",
    "# JSON encoder and decoder\n",
    "import json\n",
    "\n",
    "# Basic date and time types\n",
    "from datetime import datetime, date, timedelta\n",
    "\n",
    "# The fundamental package for scientific computing with Python.\n",
    "import numpy as np\n",
    "\n",
    "# Flexible and powerful data analysis / manipulation library for Python, providing labeled data structures similar to R data.frame objects, statistical functions, and much more\n",
    "import pandas as pd\n",
    "\n",
    "# Python tools for geographic data\n",
    "import geopandas as gpd\n",
    "\n",
    "# Set the absolute directory path.\n",
    "BASE_PATH = os.path.abspath('')\n",
    "dirs = os.path.dirname(BASE_PATH)\n",
    "DATA_PATH = os.path.join(dirs, 'datasets')"
   ]
  },
  {
   "source": [
    "## Export to csv"
   ],
   "cell_type": "markdown",
   "metadata": {}
  },
  {
   "cell_type": "code",
   "execution_count": 2,
   "metadata": {},
   "outputs": [
    {
     "output_type": "execute_result",
     "data": {
      "text/plain": [
       "     기간  자치구  공원수\n",
       "0  2017  종로구  110\n",
       "1  2017   중구   70\n",
       "2  2017  용산구  102\n",
       "3  2017  성동구   84\n",
       "4  2017  광진구   55"
      ],
      "text/html": "<div>\n<style scoped>\n    .dataframe tbody tr th:only-of-type {\n        vertical-align: middle;\n    }\n\n    .dataframe tbody tr th {\n        vertical-align: top;\n    }\n\n    .dataframe thead th {\n        text-align: right;\n    }\n</style>\n<table border=\"1\" class=\"dataframe\">\n  <thead>\n    <tr style=\"text-align: right;\">\n      <th></th>\n      <th>기간</th>\n      <th>자치구</th>\n      <th>공원수</th>\n    </tr>\n  </thead>\n  <tbody>\n    <tr>\n      <th>0</th>\n      <td>2017</td>\n      <td>종로구</td>\n      <td>110</td>\n    </tr>\n    <tr>\n      <th>1</th>\n      <td>2017</td>\n      <td>중구</td>\n      <td>70</td>\n    </tr>\n    <tr>\n      <th>2</th>\n      <td>2017</td>\n      <td>용산구</td>\n      <td>102</td>\n    </tr>\n    <tr>\n      <th>3</th>\n      <td>2017</td>\n      <td>성동구</td>\n      <td>84</td>\n    </tr>\n    <tr>\n      <th>4</th>\n      <td>2017</td>\n      <td>광진구</td>\n      <td>55</td>\n    </tr>\n  </tbody>\n</table>\n</div>"
     },
     "metadata": {},
     "execution_count": 2
    }
   ],
   "source": [
    "# 서울시_공원_통계\n",
    "df1 = pd.read_csv(os.path.join(DATA_PATH, 'data.seoul.go.kr', '서울시_공원_통계_2017_2019.txt'),\n",
    "    sep='\\t',\n",
    "    thousands=',', \n",
    "    encoding='utf-8',\n",
    "    usecols=['기간', '자치구', '계'],\n",
    "    skiprows=[1,2]\n",
    ")\n",
    "\n",
    "df1.rename(columns={\n",
    "    '계': '공원수'\n",
    "}, inplace=True)\n",
    "\n",
    "df1 = df1[(df1['자치구'] != '합계') & (df1['자치구'] != '서울대공원')]\n",
    "df1.index = np.arange(0, len(df1))\n",
    "\n",
    "df1.head()"
   ]
  },
  {
   "cell_type": "code",
   "execution_count": 3,
   "metadata": {},
   "outputs": [
    {
     "output_type": "execute_result",
     "data": {
      "text/plain": [
       "     기간  자치구     공원면적  1인당공원면적\n",
       "0  2017  종로구  11569.7     70.4\n",
       "1  2017   중구   3132.0     23.3\n",
       "2  2017  용산구   1794.1      7.3\n",
       "3  2017  성동구   3101.4      9.9\n",
       "4  2017  광진구   3359.2      9.0"
      ],
      "text/html": "<div>\n<style scoped>\n    .dataframe tbody tr th:only-of-type {\n        vertical-align: middle;\n    }\n\n    .dataframe tbody tr th {\n        vertical-align: top;\n    }\n\n    .dataframe thead th {\n        text-align: right;\n    }\n</style>\n<table border=\"1\" class=\"dataframe\">\n  <thead>\n    <tr style=\"text-align: right;\">\n      <th></th>\n      <th>기간</th>\n      <th>자치구</th>\n      <th>공원면적</th>\n      <th>1인당공원면적</th>\n    </tr>\n  </thead>\n  <tbody>\n    <tr>\n      <th>0</th>\n      <td>2017</td>\n      <td>종로구</td>\n      <td>11569.7</td>\n      <td>70.4</td>\n    </tr>\n    <tr>\n      <th>1</th>\n      <td>2017</td>\n      <td>중구</td>\n      <td>3132.0</td>\n      <td>23.3</td>\n    </tr>\n    <tr>\n      <th>2</th>\n      <td>2017</td>\n      <td>용산구</td>\n      <td>1794.1</td>\n      <td>7.3</td>\n    </tr>\n    <tr>\n      <th>3</th>\n      <td>2017</td>\n      <td>성동구</td>\n      <td>3101.4</td>\n      <td>9.9</td>\n    </tr>\n    <tr>\n      <th>4</th>\n      <td>2017</td>\n      <td>광진구</td>\n      <td>3359.2</td>\n      <td>9.0</td>\n    </tr>\n  </tbody>\n</table>\n</div>"
     },
     "metadata": {},
     "execution_count": 3
    }
   ],
   "source": [
    "# 서울시_공원_1인당_공원면적_통계\n",
    "df2 = pd.read_csv(os.path.join(DATA_PATH, 'data.seoul.go.kr', '서울시_공원_1인당_공원면적_통계_2017_2019.txt'),\n",
    "    sep='\\t',\n",
    "    thousands=',', \n",
    "    encoding='utf-8',\n",
    "    usecols=['기간', '자치구', '공원(1인당공원면적)', '공원(1인당공원면적).1'],\n",
    "    skiprows=[1,2]\n",
    ")\n",
    "\n",
    "df2.rename(columns={\n",
    "    '공원(1인당공원면적)': '공원면적',\n",
    "    '공원(1인당공원면적).1': '1인당공원면적',\n",
    "}, inplace=True)\n",
    "\n",
    "df2 = df2[(df2['자치구'] != '서울시') & (df2['자치구'] != '서울대공원')]\n",
    "df2.index = np.arange(0, len(df2))\n",
    "\n",
    "for column in ['공원면적', '1인당공원면적']:\n",
    "    df2[column] = np.where(df2[column] == '-', np.nan, df2[column])\n",
    "    df2[column] = pd.to_numeric(df2[column])\n",
    "\n",
    "df2.head()"
   ]
  },
  {
   "cell_type": "code",
   "execution_count": 4,
   "metadata": {},
   "outputs": [
    {
     "output_type": "execute_result",
     "data": {
      "text/plain": [
       "     기간  자치구  공원수     공원면적  1인당공원면적\n",
       "0  2017  종로구  110  11569.7     70.4\n",
       "1  2017   중구   70   3132.0     23.3\n",
       "2  2017  용산구  102   1794.1      7.3\n",
       "3  2017  성동구   84   3101.4      9.9\n",
       "4  2017  광진구   55   3359.2      9.0"
      ],
      "text/html": "<div>\n<style scoped>\n    .dataframe tbody tr th:only-of-type {\n        vertical-align: middle;\n    }\n\n    .dataframe tbody tr th {\n        vertical-align: top;\n    }\n\n    .dataframe thead th {\n        text-align: right;\n    }\n</style>\n<table border=\"1\" class=\"dataframe\">\n  <thead>\n    <tr style=\"text-align: right;\">\n      <th></th>\n      <th>기간</th>\n      <th>자치구</th>\n      <th>공원수</th>\n      <th>공원면적</th>\n      <th>1인당공원면적</th>\n    </tr>\n  </thead>\n  <tbody>\n    <tr>\n      <th>0</th>\n      <td>2017</td>\n      <td>종로구</td>\n      <td>110</td>\n      <td>11569.7</td>\n      <td>70.4</td>\n    </tr>\n    <tr>\n      <th>1</th>\n      <td>2017</td>\n      <td>중구</td>\n      <td>70</td>\n      <td>3132.0</td>\n      <td>23.3</td>\n    </tr>\n    <tr>\n      <th>2</th>\n      <td>2017</td>\n      <td>용산구</td>\n      <td>102</td>\n      <td>1794.1</td>\n      <td>7.3</td>\n    </tr>\n    <tr>\n      <th>3</th>\n      <td>2017</td>\n      <td>성동구</td>\n      <td>84</td>\n      <td>3101.4</td>\n      <td>9.9</td>\n    </tr>\n    <tr>\n      <th>4</th>\n      <td>2017</td>\n      <td>광진구</td>\n      <td>55</td>\n      <td>3359.2</td>\n      <td>9.0</td>\n    </tr>\n  </tbody>\n</table>\n</div>"
     },
     "metadata": {},
     "execution_count": 4
    }
   ],
   "source": [
    "df3 = pd.merge(df1, df2, on=['기간','자치구'])\n",
    "df3.head()"
   ]
  },
  {
   "cell_type": "code",
   "execution_count": 5,
   "metadata": {},
   "outputs": [
    {
     "output_type": "execute_result",
     "data": {
      "text/plain": [
       "     시도명  시도코드 시군구명  시군구코드          시군구_x         시군구_y\n",
       "0  서울특별시    11  종로구  11110  954859.306142  1.953755e+06\n",
       "1  서울특별시    11   중구  11140  955931.027850  1.951526e+06\n",
       "2  서울특별시    11  용산구  11170  954122.014984  1.948855e+06\n",
       "3  서울특별시    11  성동구  11200  959571.250766  1.950601e+06\n",
       "4  서울특별시    11  광진구  11215  963032.466631  1.949996e+06"
      ],
      "text/html": "<div>\n<style scoped>\n    .dataframe tbody tr th:only-of-type {\n        vertical-align: middle;\n    }\n\n    .dataframe tbody tr th {\n        vertical-align: top;\n    }\n\n    .dataframe thead th {\n        text-align: right;\n    }\n</style>\n<table border=\"1\" class=\"dataframe\">\n  <thead>\n    <tr style=\"text-align: right;\">\n      <th></th>\n      <th>시도명</th>\n      <th>시도코드</th>\n      <th>시군구명</th>\n      <th>시군구코드</th>\n      <th>시군구_x</th>\n      <th>시군구_y</th>\n    </tr>\n  </thead>\n  <tbody>\n    <tr>\n      <th>0</th>\n      <td>서울특별시</td>\n      <td>11</td>\n      <td>종로구</td>\n      <td>11110</td>\n      <td>954859.306142</td>\n      <td>1.953755e+06</td>\n    </tr>\n    <tr>\n      <th>1</th>\n      <td>서울특별시</td>\n      <td>11</td>\n      <td>중구</td>\n      <td>11140</td>\n      <td>955931.027850</td>\n      <td>1.951526e+06</td>\n    </tr>\n    <tr>\n      <th>2</th>\n      <td>서울특별시</td>\n      <td>11</td>\n      <td>용산구</td>\n      <td>11170</td>\n      <td>954122.014984</td>\n      <td>1.948855e+06</td>\n    </tr>\n    <tr>\n      <th>3</th>\n      <td>서울특별시</td>\n      <td>11</td>\n      <td>성동구</td>\n      <td>11200</td>\n      <td>959571.250766</td>\n      <td>1.950601e+06</td>\n    </tr>\n    <tr>\n      <th>4</th>\n      <td>서울특별시</td>\n      <td>11</td>\n      <td>광진구</td>\n      <td>11215</td>\n      <td>963032.466631</td>\n      <td>1.949996e+06</td>\n    </tr>\n  </tbody>\n</table>\n</div>"
     },
     "metadata": {},
     "execution_count": 5
    }
   ],
   "source": [
    "# 서울시_공원_1인당_공원면적_통계\n",
    "df4 = pd.read_csv(os.path.join(DATA_PATH, '행정구역_시군구_별__좌표_2020.csv'))\n",
    "df4.head()"
   ]
  },
  {
   "cell_type": "code",
   "execution_count": 6,
   "metadata": {},
   "outputs": [
    {
     "output_type": "execute_result",
     "data": {
      "text/plain": [
       "     기간    시도명 시도코드 시군구명 SIG_KOR_NM  시군구코드 SIG_CD  자치구  공원수     공원면적  1인당공원면적  \\\n",
       "0  2017  서울특별시   11  종로구        종로구  11110  11110  종로구  110  11569.7     70.4   \n",
       "1  2017  서울특별시   11   중구         중구  11140  11140   중구   70   3132.0     23.3   \n",
       "2  2017  부산광역시   26   중구         중구  26110  26110   중구   70   3132.0     23.3   \n",
       "3  2017  대구광역시   27   중구         중구  27110  27110   중구   70   3132.0     23.3   \n",
       "4  2017  인천광역시   28   중구         중구  28110  28110   중구   70   3132.0     23.3   \n",
       "\n",
       "          시군구_x         시군구_y  \n",
       "0  9.548593e+05  1.953755e+06  \n",
       "1  9.559310e+05  1.951526e+06  \n",
       "2  1.139440e+06  1.679949e+06  \n",
       "3  1.098782e+06  1.763839e+06  \n",
       "4  9.168603e+05  1.941823e+06  "
      ],
      "text/html": "<div>\n<style scoped>\n    .dataframe tbody tr th:only-of-type {\n        vertical-align: middle;\n    }\n\n    .dataframe tbody tr th {\n        vertical-align: top;\n    }\n\n    .dataframe thead th {\n        text-align: right;\n    }\n</style>\n<table border=\"1\" class=\"dataframe\">\n  <thead>\n    <tr style=\"text-align: right;\">\n      <th></th>\n      <th>기간</th>\n      <th>시도명</th>\n      <th>시도코드</th>\n      <th>시군구명</th>\n      <th>SIG_KOR_NM</th>\n      <th>시군구코드</th>\n      <th>SIG_CD</th>\n      <th>자치구</th>\n      <th>공원수</th>\n      <th>공원면적</th>\n      <th>1인당공원면적</th>\n      <th>시군구_x</th>\n      <th>시군구_y</th>\n    </tr>\n  </thead>\n  <tbody>\n    <tr>\n      <th>0</th>\n      <td>2017</td>\n      <td>서울특별시</td>\n      <td>11</td>\n      <td>종로구</td>\n      <td>종로구</td>\n      <td>11110</td>\n      <td>11110</td>\n      <td>종로구</td>\n      <td>110</td>\n      <td>11569.7</td>\n      <td>70.4</td>\n      <td>9.548593e+05</td>\n      <td>1.953755e+06</td>\n    </tr>\n    <tr>\n      <th>1</th>\n      <td>2017</td>\n      <td>서울특별시</td>\n      <td>11</td>\n      <td>중구</td>\n      <td>중구</td>\n      <td>11140</td>\n      <td>11140</td>\n      <td>중구</td>\n      <td>70</td>\n      <td>3132.0</td>\n      <td>23.3</td>\n      <td>9.559310e+05</td>\n      <td>1.951526e+06</td>\n    </tr>\n    <tr>\n      <th>2</th>\n      <td>2017</td>\n      <td>부산광역시</td>\n      <td>26</td>\n      <td>중구</td>\n      <td>중구</td>\n      <td>26110</td>\n      <td>26110</td>\n      <td>중구</td>\n      <td>70</td>\n      <td>3132.0</td>\n      <td>23.3</td>\n      <td>1.139440e+06</td>\n      <td>1.679949e+06</td>\n    </tr>\n    <tr>\n      <th>3</th>\n      <td>2017</td>\n      <td>대구광역시</td>\n      <td>27</td>\n      <td>중구</td>\n      <td>중구</td>\n      <td>27110</td>\n      <td>27110</td>\n      <td>중구</td>\n      <td>70</td>\n      <td>3132.0</td>\n      <td>23.3</td>\n      <td>1.098782e+06</td>\n      <td>1.763839e+06</td>\n    </tr>\n    <tr>\n      <th>4</th>\n      <td>2017</td>\n      <td>인천광역시</td>\n      <td>28</td>\n      <td>중구</td>\n      <td>중구</td>\n      <td>28110</td>\n      <td>28110</td>\n      <td>중구</td>\n      <td>70</td>\n      <td>3132.0</td>\n      <td>23.3</td>\n      <td>9.168603e+05</td>\n      <td>1.941823e+06</td>\n    </tr>\n  </tbody>\n</table>\n</div>"
     },
     "metadata": {},
     "execution_count": 6
    }
   ],
   "source": [
    "df = pd.merge(df3, df4, left_on='자치구', right_on='시군구명', how='left')\n",
    "\n",
    "df['시도코드'] = df['시도코드'].astype(str)\n",
    "df['시군구코드'] = df['시군구코드'].astype(str)\n",
    "\n",
    "df['SIG_CD'] = df['시군구코드']\n",
    "df['SIG_KOR_NM'] = df['시군구명']\n",
    "\n",
    "# for column in ['시도코드', '시군구코드']:\n",
    "#     df[column] = np.where(df[column] == '-', np.nan, df[column])\n",
    "#     df[column] = df[column].fillna(0).astype(int)\n",
    "\n",
    "df = df[['기간', '시도명', '시도코드', '시군구명', '시군구코드', '자치구', '공원수', '공원면적', '1인당공원면적', '시군구_x', '시군구_y', 'SIG_KOR_NM', 'SIG_CD']]\n",
    "\n",
    "# df.to_csv(os.path.join(DATA_PATH, '서울시_공원_통계_2017_2019.csv'), index=False)\n",
    "df.head()"
   ]
  },
  {
   "source": [
    "## Export to geojson"
   ],
   "cell_type": "markdown",
   "metadata": {}
  },
  {
   "cell_type": "code",
   "execution_count": 7,
   "metadata": {},
   "outputs": [
    {
     "output_type": "execute_result",
     "data": {
      "text/plain": [
       "     기간    시도명 시도코드 시군구명  시군구코드  공원수     공원면적  1인당공원면적          시군구_x  \\\n",
       "0  2017  서울특별시   11  종로구  11110  110  11569.7     70.4  954859.306142   \n",
       "\n",
       "          시군구_y SIG_CD SIG_ENG_NM SIG_KOR_NM  \\\n",
       "0  1.953755e+06  11110  Jongno-gu        종로구   \n",
       "\n",
       "                                            geometry  \n",
       "0  POLYGON ((127.00864 37.58047, 127.00871 37.580...  "
      ],
      "text/html": "<div>\n<style scoped>\n    .dataframe tbody tr th:only-of-type {\n        vertical-align: middle;\n    }\n\n    .dataframe tbody tr th {\n        vertical-align: top;\n    }\n\n    .dataframe thead th {\n        text-align: right;\n    }\n</style>\n<table border=\"1\" class=\"dataframe\">\n  <thead>\n    <tr style=\"text-align: right;\">\n      <th></th>\n      <th>기간</th>\n      <th>시도명</th>\n      <th>시도코드</th>\n      <th>시군구명</th>\n      <th>시군구코드</th>\n      <th>공원수</th>\n      <th>공원면적</th>\n      <th>1인당공원면적</th>\n      <th>시군구_x</th>\n      <th>시군구_y</th>\n      <th>SIG_CD</th>\n      <th>SIG_ENG_NM</th>\n      <th>SIG_KOR_NM</th>\n      <th>geometry</th>\n    </tr>\n  </thead>\n  <tbody>\n    <tr>\n      <th>0</th>\n      <td>2017</td>\n      <td>서울특별시</td>\n      <td>11</td>\n      <td>종로구</td>\n      <td>11110</td>\n      <td>110</td>\n      <td>11569.7</td>\n      <td>70.4</td>\n      <td>954859.306142</td>\n      <td>1.953755e+06</td>\n      <td>11110</td>\n      <td>Jongno-gu</td>\n      <td>종로구</td>\n      <td>POLYGON ((127.00864 37.58047, 127.00871 37.580...</td>\n    </tr>\n  </tbody>\n</table>\n</div>"
     },
     "metadata": {},
     "execution_count": 7
    }
   ],
   "source": [
    "f = os.path.join(DATA_PATH, 'gisdeveloper.co.kr', 'SIG_202005', 'SIG.shp')\n",
    "base = gpd.GeoDataFrame.from_file(f, encoding='euc-kr')\n",
    "\n",
    "# Only Seoul city data is extracted.\n",
    "base = base[base['SIG_CD'].str.startswith('11')]\n",
    "\n",
    "gdf = base.merge(df, on='SIG_CD')\n",
    "\n",
    "gdf.rename(columns={\n",
    "    'SIG_KOR_NM_x': 'SIG_KOR_NM'\n",
    "}, inplace=True)\n",
    "\n",
    "gdf = gdf[['기간', '시도명', '시도코드',\n",
    "       '시군구명', '시군구코드', '공원수', '공원면적', '1인당공원면적', '시군구_x', '시군구_y',\n",
    "       'SIG_CD', 'SIG_ENG_NM', 'SIG_KOR_NM', 'geometry']]\n",
    "\n",
    "# EPSG라는 산업표준 좌표계 코드는 4326이고, GPS 기본 좌표계이기도 함.\n",
    "gdf = gdf.to_crs(epsg=4326)\n",
    "\n",
    "gdf.to_file(os.path.join(DATA_PATH, '서울시_공원_통계_2017_2019.json'), driver='GeoJSON')\n",
    "gdf.head(1)"
   ]
  },
  {
   "cell_type": "code",
   "execution_count": null,
   "metadata": {},
   "outputs": [],
   "source": []
  }
 ]
}