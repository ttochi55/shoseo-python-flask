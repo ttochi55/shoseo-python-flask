{
 "metadata": {
  "language_info": {
   "codemirror_mode": {
    "name": "ipython",
    "version": 3
   },
   "file_extension": ".py",
   "mimetype": "text/x-python",
   "name": "python",
   "nbconvert_exporter": "python",
   "pygments_lexer": "ipython3",
   "version": "3.8.5-final"
  },
  "orig_nbformat": 2,
  "kernelspec": {
   "name": "python3",
   "display_name": "Python 3",
   "language": "python"
  }
 },
 "nbformat": 4,
 "nbformat_minor": 2,
 "cells": [
  {
   "source": [
    "# Sklearn Datasets"
   ],
   "cell_type": "markdown",
   "metadata": {}
  },
  {
   "cell_type": "code",
   "execution_count": 1,
   "metadata": {},
   "outputs": [],
   "source": [
    "# Miscellaneous operating system interfaces\n",
    "import os\n",
    "\n",
    "# The fundamental package for scientific computing with Python.\n",
    "import numpy as np\n",
    "\n",
    "# Flexible and powerful data analysis / manipulation library for Python, providing labeled data structures similar to R data.frame objects, statistical functions, and much more\n",
    "import pandas as pd\n",
    "\n",
    "# Machine learning in Python\n",
    "from sklearn import datasets\n",
    "from sklearn.model_selection import train_test_split\n",
    "\n",
    "# Set the absolute directory path.\n",
    "BASE_PATH = os.path.abspath('')\n",
    "dirs = os.path.dirname(BASE_PATH)\n",
    "CONFIG_PATH = os.path.join(dirs, 'configs')\n",
    "DATASET_PATH = os.path.join(dirs, 'datasets')\n",
    "MIDDLEWARE_PATH = os.path.join(dirs, 'middlewares')\n",
    "MODEL_PATH = os.path.join(dirs, 'models')\n",
    "ROUTE_PATH = os.path.join(dirs, 'routes')\n",
    "TEMPLATE_PATH = os.path.join(dirs, 'templates')"
   ]
  },
  {
   "source": [
    "## Load Iris"
   ],
   "cell_type": "markdown",
   "metadata": {}
  },
  {
   "cell_type": "code",
   "execution_count": 2,
   "metadata": {},
   "outputs": [
    {
     "output_type": "execute_result",
     "data": {
      "text/plain": [
       "   sepal length (cm)  sepal width (cm)  petal length (cm)  petal width (cm)  \\\n",
       "0                5.1               3.3                1.7               0.5   \n",
       "\n",
       "   target  \n",
       "0       0  "
      ],
      "text/html": "<div>\n<style scoped>\n    .dataframe tbody tr th:only-of-type {\n        vertical-align: middle;\n    }\n\n    .dataframe tbody tr th {\n        vertical-align: top;\n    }\n\n    .dataframe thead th {\n        text-align: right;\n    }\n</style>\n<table border=\"1\" class=\"dataframe\">\n  <thead>\n    <tr style=\"text-align: right;\">\n      <th></th>\n      <th>sepal length (cm)</th>\n      <th>sepal width (cm)</th>\n      <th>petal length (cm)</th>\n      <th>petal width (cm)</th>\n      <th>target</th>\n    </tr>\n  </thead>\n  <tbody>\n    <tr>\n      <th>0</th>\n      <td>5.1</td>\n      <td>3.3</td>\n      <td>1.7</td>\n      <td>0.5</td>\n      <td>0</td>\n    </tr>\n  </tbody>\n</table>\n</div>"
     },
     "metadata": {},
     "execution_count": 2
    }
   ],
   "source": [
    "dataset = datasets.load_iris()\n",
    "\n",
    "df = pd.DataFrame(dataset.data, columns=dataset.feature_names)\n",
    "df['target'] = dataset.target\n",
    "\n",
    "X_train, X_test, y_train, y_test = train_test_split(\n",
    "    df, dataset.target, test_size=0.25, stratify=dataset.target, random_state=2021\n",
    ")\n",
    "\n",
    "filename = 'iris'\n",
    "X_train.to_csv(os.path.join(DATASET_PATH, 'sklearn', '{}_train.csv'.format(filename)), index=False)\n",
    "X_test.to_csv(os.path.join(DATASET_PATH, 'sklearn', '{}_test.csv'.format(filename)), index=False)\n",
    "\n",
    "df = pd.read_csv(os.path.join(DATASET_PATH, 'sklearn', '{}_train.csv'.format(filename)))\n",
    "df.head(1)"
   ]
  },
  {
   "source": [
    "## Load Wine"
   ],
   "cell_type": "markdown",
   "metadata": {}
  },
  {
   "cell_type": "code",
   "execution_count": 3,
   "metadata": {},
   "outputs": [
    {
     "output_type": "execute_result",
     "data": {
      "text/plain": [
       "   alcohol  malic_acid   ash  alcalinity_of_ash  magnesium  total_phenols  \\\n",
       "0     13.4        3.91  2.48               23.0      102.0            1.8   \n",
       "\n",
       "   flavanoids  nonflavanoid_phenols  proanthocyanins  color_intensity  hue  \\\n",
       "0        0.75                  0.43             1.41              7.3  0.7   \n",
       "\n",
       "   od280/od315_of_diluted_wines  proline  target  \n",
       "0                          1.56    750.0       2  "
      ],
      "text/html": "<div>\n<style scoped>\n    .dataframe tbody tr th:only-of-type {\n        vertical-align: middle;\n    }\n\n    .dataframe tbody tr th {\n        vertical-align: top;\n    }\n\n    .dataframe thead th {\n        text-align: right;\n    }\n</style>\n<table border=\"1\" class=\"dataframe\">\n  <thead>\n    <tr style=\"text-align: right;\">\n      <th></th>\n      <th>alcohol</th>\n      <th>malic_acid</th>\n      <th>ash</th>\n      <th>alcalinity_of_ash</th>\n      <th>magnesium</th>\n      <th>total_phenols</th>\n      <th>flavanoids</th>\n      <th>nonflavanoid_phenols</th>\n      <th>proanthocyanins</th>\n      <th>color_intensity</th>\n      <th>hue</th>\n      <th>od280/od315_of_diluted_wines</th>\n      <th>proline</th>\n      <th>target</th>\n    </tr>\n  </thead>\n  <tbody>\n    <tr>\n      <th>0</th>\n      <td>13.4</td>\n      <td>3.91</td>\n      <td>2.48</td>\n      <td>23.0</td>\n      <td>102.0</td>\n      <td>1.8</td>\n      <td>0.75</td>\n      <td>0.43</td>\n      <td>1.41</td>\n      <td>7.3</td>\n      <td>0.7</td>\n      <td>1.56</td>\n      <td>750.0</td>\n      <td>2</td>\n    </tr>\n  </tbody>\n</table>\n</div>"
     },
     "metadata": {},
     "execution_count": 3
    }
   ],
   "source": [
    "dataset = datasets.load_wine()\n",
    "\n",
    "df = pd.DataFrame(dataset.data, columns=dataset.feature_names)\n",
    "df['target'] = dataset.target\n",
    "\n",
    "X_train, X_test, y_train, y_test = train_test_split(\n",
    "    df, dataset.target, test_size=0.25, stratify=dataset.target, random_state=2021\n",
    ")\n",
    "\n",
    "filename = 'wine'\n",
    "X_train.to_csv(os.path.join(DATASET_PATH, 'sklearn', '{}_train.csv'.format(filename)), index=False)\n",
    "X_test.to_csv(os.path.join(DATASET_PATH, 'sklearn', '{}_test.csv'.format(filename)), index=False)\n",
    "\n",
    "df = pd.read_csv(os.path.join(DATASET_PATH, 'sklearn', '{}_train.csv'.format(filename)))\n",
    "df.head(1)"
   ]
  },
  {
   "source": [
    "## Load Digits"
   ],
   "cell_type": "markdown",
   "metadata": {}
  },
  {
   "cell_type": "code",
   "execution_count": 4,
   "metadata": {},
   "outputs": [
    {
     "output_type": "execute_result",
     "data": {
      "text/plain": [
       "   pixel_0_0  pixel_0_1  pixel_0_2  pixel_0_3  pixel_0_4  pixel_0_5  \\\n",
       "0        0.0        0.0        6.0       16.0        8.0        0.0   \n",
       "\n",
       "   pixel_0_6  pixel_0_7  pixel_1_0  pixel_1_1  ...  pixel_6_7  pixel_7_0  \\\n",
       "0        0.0        0.0        0.0        0.0  ...        3.0        0.0   \n",
       "\n",
       "   pixel_7_1  pixel_7_2  pixel_7_3  pixel_7_4  pixel_7_5  pixel_7_6  \\\n",
       "0        0.0        4.0       16.0       16.0       15.0       16.0   \n",
       "\n",
       "   pixel_7_7  target  \n",
       "0       16.0       2  \n",
       "\n",
       "[1 rows x 65 columns]"
      ],
      "text/html": "<div>\n<style scoped>\n    .dataframe tbody tr th:only-of-type {\n        vertical-align: middle;\n    }\n\n    .dataframe tbody tr th {\n        vertical-align: top;\n    }\n\n    .dataframe thead th {\n        text-align: right;\n    }\n</style>\n<table border=\"1\" class=\"dataframe\">\n  <thead>\n    <tr style=\"text-align: right;\">\n      <th></th>\n      <th>pixel_0_0</th>\n      <th>pixel_0_1</th>\n      <th>pixel_0_2</th>\n      <th>pixel_0_3</th>\n      <th>pixel_0_4</th>\n      <th>pixel_0_5</th>\n      <th>pixel_0_6</th>\n      <th>pixel_0_7</th>\n      <th>pixel_1_0</th>\n      <th>pixel_1_1</th>\n      <th>...</th>\n      <th>pixel_6_7</th>\n      <th>pixel_7_0</th>\n      <th>pixel_7_1</th>\n      <th>pixel_7_2</th>\n      <th>pixel_7_3</th>\n      <th>pixel_7_4</th>\n      <th>pixel_7_5</th>\n      <th>pixel_7_6</th>\n      <th>pixel_7_7</th>\n      <th>target</th>\n    </tr>\n  </thead>\n  <tbody>\n    <tr>\n      <th>0</th>\n      <td>0.0</td>\n      <td>0.0</td>\n      <td>6.0</td>\n      <td>16.0</td>\n      <td>8.0</td>\n      <td>0.0</td>\n      <td>0.0</td>\n      <td>0.0</td>\n      <td>0.0</td>\n      <td>0.0</td>\n      <td>...</td>\n      <td>3.0</td>\n      <td>0.0</td>\n      <td>0.0</td>\n      <td>4.0</td>\n      <td>16.0</td>\n      <td>16.0</td>\n      <td>15.0</td>\n      <td>16.0</td>\n      <td>16.0</td>\n      <td>2</td>\n    </tr>\n  </tbody>\n</table>\n<p>1 rows × 65 columns</p>\n</div>"
     },
     "metadata": {},
     "execution_count": 4
    }
   ],
   "source": [
    "dataset = datasets.load_digits()\n",
    "\n",
    "df = pd.DataFrame(dataset.data, columns=dataset.feature_names)\n",
    "df['target'] = dataset.target\n",
    "\n",
    "X_train, X_test, y_train, y_test = train_test_split(\n",
    "    df, dataset.target, test_size=0.25, stratify=dataset.target, random_state=2021\n",
    ")\n",
    "\n",
    "filename = 'digits'\n",
    "X_train.to_csv(os.path.join(DATASET_PATH, 'sklearn', '{}_train.csv'.format(filename)), index=False)\n",
    "X_test.to_csv(os.path.join(DATASET_PATH, 'sklearn', '{}_test.csv'.format(filename)), index=False)\n",
    "\n",
    "df = pd.read_csv(os.path.join(DATASET_PATH, 'sklearn', '{}_train.csv'.format(filename)))\n",
    "df.head(1)"
   ]
  },
  {
   "source": [
    "## Load Breast Cancer"
   ],
   "cell_type": "markdown",
   "metadata": {}
  },
  {
   "cell_type": "code",
   "execution_count": 5,
   "metadata": {},
   "outputs": [
    {
     "output_type": "execute_result",
     "data": {
      "text/plain": [
       "   mean radius  mean texture  mean perimeter  mean area  mean smoothness  \\\n",
       "0        25.73         17.46           174.2     2010.0           0.1149   \n",
       "\n",
       "   mean compactness  mean concavity  mean concave points  mean symmetry  \\\n",
       "0            0.2363          0.3368               0.1913         0.1956   \n",
       "\n",
       "   mean fractal dimension  ...  worst texture  worst perimeter  worst area  \\\n",
       "0                 0.06121  ...          23.58            229.3      3234.0   \n",
       "\n",
       "   worst smoothness  worst compactness  worst concavity  worst concave points  \\\n",
       "0             0.153             0.5937           0.6451                0.2756   \n",
       "\n",
       "   worst symmetry  worst fractal dimension  target  \n",
       "0           0.369                  0.08815       0  \n",
       "\n",
       "[1 rows x 31 columns]"
      ],
      "text/html": "<div>\n<style scoped>\n    .dataframe tbody tr th:only-of-type {\n        vertical-align: middle;\n    }\n\n    .dataframe tbody tr th {\n        vertical-align: top;\n    }\n\n    .dataframe thead th {\n        text-align: right;\n    }\n</style>\n<table border=\"1\" class=\"dataframe\">\n  <thead>\n    <tr style=\"text-align: right;\">\n      <th></th>\n      <th>mean radius</th>\n      <th>mean texture</th>\n      <th>mean perimeter</th>\n      <th>mean area</th>\n      <th>mean smoothness</th>\n      <th>mean compactness</th>\n      <th>mean concavity</th>\n      <th>mean concave points</th>\n      <th>mean symmetry</th>\n      <th>mean fractal dimension</th>\n      <th>...</th>\n      <th>worst texture</th>\n      <th>worst perimeter</th>\n      <th>worst area</th>\n      <th>worst smoothness</th>\n      <th>worst compactness</th>\n      <th>worst concavity</th>\n      <th>worst concave points</th>\n      <th>worst symmetry</th>\n      <th>worst fractal dimension</th>\n      <th>target</th>\n    </tr>\n  </thead>\n  <tbody>\n    <tr>\n      <th>0</th>\n      <td>25.73</td>\n      <td>17.46</td>\n      <td>174.2</td>\n      <td>2010.0</td>\n      <td>0.1149</td>\n      <td>0.2363</td>\n      <td>0.3368</td>\n      <td>0.1913</td>\n      <td>0.1956</td>\n      <td>0.06121</td>\n      <td>...</td>\n      <td>23.58</td>\n      <td>229.3</td>\n      <td>3234.0</td>\n      <td>0.153</td>\n      <td>0.5937</td>\n      <td>0.6451</td>\n      <td>0.2756</td>\n      <td>0.369</td>\n      <td>0.08815</td>\n      <td>0</td>\n    </tr>\n  </tbody>\n</table>\n<p>1 rows × 31 columns</p>\n</div>"
     },
     "metadata": {},
     "execution_count": 5
    }
   ],
   "source": [
    "dataset = datasets.load_breast_cancer()\n",
    "\n",
    "df = pd.DataFrame(dataset.data, columns=dataset.feature_names)\n",
    "df['target'] = dataset.target\n",
    "\n",
    "X_train, X_test, y_train, y_test = train_test_split(\n",
    "    df, dataset.target, test_size=0.25, stratify=dataset.target, random_state=2021\n",
    ")\n",
    "\n",
    "filename = 'breast_cancer'\n",
    "X_train.to_csv(os.path.join(DATASET_PATH, 'sklearn', '{}_train.csv'.format(filename)), index=False)\n",
    "X_test.to_csv(os.path.join(DATASET_PATH, 'sklearn', '{}_test.csv'.format(filename)), index=False)\n",
    "\n",
    "df = pd.read_csv(os.path.join(DATASET_PATH, 'sklearn', '{}_train.csv'.format(filename)))\n",
    "df.head(1)"
   ]
  },
  {
   "source": [
    "## Load Diabetes"
   ],
   "cell_type": "markdown",
   "metadata": {}
  },
  {
   "cell_type": "code",
   "execution_count": 6,
   "metadata": {},
   "outputs": [
    {
     "output_type": "execute_result",
     "data": {
      "text/plain": [
       "        age       sex       bmi        bp        s1        s2        s3  \\\n",
       "0 -0.063635 -0.044642 -0.033151 -0.033214  0.001183  0.024051 -0.024993   \n",
       "\n",
       "         s4        s5        s6  target  \n",
       "0 -0.002592 -0.022512 -0.059067   214.0  "
      ],
      "text/html": "<div>\n<style scoped>\n    .dataframe tbody tr th:only-of-type {\n        vertical-align: middle;\n    }\n\n    .dataframe tbody tr th {\n        vertical-align: top;\n    }\n\n    .dataframe thead th {\n        text-align: right;\n    }\n</style>\n<table border=\"1\" class=\"dataframe\">\n  <thead>\n    <tr style=\"text-align: right;\">\n      <th></th>\n      <th>age</th>\n      <th>sex</th>\n      <th>bmi</th>\n      <th>bp</th>\n      <th>s1</th>\n      <th>s2</th>\n      <th>s3</th>\n      <th>s4</th>\n      <th>s5</th>\n      <th>s6</th>\n      <th>target</th>\n    </tr>\n  </thead>\n  <tbody>\n    <tr>\n      <th>0</th>\n      <td>-0.063635</td>\n      <td>-0.044642</td>\n      <td>-0.033151</td>\n      <td>-0.033214</td>\n      <td>0.001183</td>\n      <td>0.024051</td>\n      <td>-0.024993</td>\n      <td>-0.002592</td>\n      <td>-0.022512</td>\n      <td>-0.059067</td>\n      <td>214.0</td>\n    </tr>\n  </tbody>\n</table>\n</div>"
     },
     "metadata": {},
     "execution_count": 6
    }
   ],
   "source": [
    "dataset = datasets.load_diabetes()\n",
    "\n",
    "df = pd.DataFrame(dataset.data, columns=dataset.feature_names)\n",
    "df['target'] = dataset.target\n",
    "\n",
    "# The least populated class in y has only 1 member, which is too few. The minimum number of groups for any class cannot be less than 2.\n",
    "#stratify=dataset.target\n",
    "X_train, X_test, y_train, y_test = train_test_split(\n",
    "    df, dataset.target, test_size=0.25, random_state=2021\n",
    ")\n",
    "\n",
    "filename = 'diabetes'\n",
    "X_train.to_csv(os.path.join(DATASET_PATH, 'sklearn', '{}_train.csv'.format(filename)), index=False)\n",
    "X_test.to_csv(os.path.join(DATASET_PATH, 'sklearn', '{}_test.csv'.format(filename)), index=False)\n",
    "\n",
    "df = pd.read_csv(os.path.join(DATASET_PATH, 'sklearn', '{}_train.csv'.format(filename)))\n",
    "df.head(1)"
   ]
  },
  {
   "source": [
    "## Load Boston"
   ],
   "cell_type": "markdown",
   "metadata": {}
  },
  {
   "cell_type": "code",
   "execution_count": 7,
   "metadata": {},
   "outputs": [
    {
     "output_type": "execute_result",
     "data": {
      "text/plain": [
       "      CRIM   ZN  INDUS  CHAS    NOX     RM   AGE     DIS   RAD    TAX  \\\n",
       "0  6.53876  0.0   18.1   1.0  0.631  7.016  97.5  1.2024  24.0  666.0   \n",
       "\n",
       "   PTRATIO       B  LSTAT  target  \n",
       "0     20.2  392.05   2.96    50.0  "
      ],
      "text/html": "<div>\n<style scoped>\n    .dataframe tbody tr th:only-of-type {\n        vertical-align: middle;\n    }\n\n    .dataframe tbody tr th {\n        vertical-align: top;\n    }\n\n    .dataframe thead th {\n        text-align: right;\n    }\n</style>\n<table border=\"1\" class=\"dataframe\">\n  <thead>\n    <tr style=\"text-align: right;\">\n      <th></th>\n      <th>CRIM</th>\n      <th>ZN</th>\n      <th>INDUS</th>\n      <th>CHAS</th>\n      <th>NOX</th>\n      <th>RM</th>\n      <th>AGE</th>\n      <th>DIS</th>\n      <th>RAD</th>\n      <th>TAX</th>\n      <th>PTRATIO</th>\n      <th>B</th>\n      <th>LSTAT</th>\n      <th>target</th>\n    </tr>\n  </thead>\n  <tbody>\n    <tr>\n      <th>0</th>\n      <td>6.53876</td>\n      <td>0.0</td>\n      <td>18.1</td>\n      <td>1.0</td>\n      <td>0.631</td>\n      <td>7.016</td>\n      <td>97.5</td>\n      <td>1.2024</td>\n      <td>24.0</td>\n      <td>666.0</td>\n      <td>20.2</td>\n      <td>392.05</td>\n      <td>2.96</td>\n      <td>50.0</td>\n    </tr>\n  </tbody>\n</table>\n</div>"
     },
     "metadata": {},
     "execution_count": 7
    }
   ],
   "source": [
    "dataset = datasets.load_boston()\n",
    "\n",
    "df = pd.DataFrame(dataset.data, columns=dataset.feature_names)\n",
    "df['target'] = dataset.target\n",
    "\n",
    "# The least populated class in y has only 1 member, which is too few. The minimum number of groups for any class cannot be less than 2.\n",
    "#stratify=dataset.target\n",
    "X_train, X_test, y_train, y_test = train_test_split(\n",
    "    df, dataset.target, test_size=0.25, random_state=2021\n",
    ")\n",
    "\n",
    "filename = 'boston'\n",
    "X_train.to_csv(os.path.join(DATASET_PATH, 'sklearn', '{}_train.csv'.format(filename)), index=False)\n",
    "X_test.to_csv(os.path.join(DATASET_PATH, 'sklearn', '{}_test.csv'.format(filename)), index=False)\n",
    "\n",
    "df = pd.read_csv(os.path.join(DATASET_PATH, 'sklearn', '{}_train.csv'.format(filename)))\n",
    "df.head(1)"
   ]
  },
  {
   "cell_type": "code",
   "execution_count": null,
   "metadata": {},
   "outputs": [],
   "source": []
  }
 ]
}